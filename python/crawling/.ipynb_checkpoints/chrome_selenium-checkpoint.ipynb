{
 "cells": [
  {
   "cell_type": "markdown",
   "id": "ce56ee62-2684-4438-81eb-260317693288",
   "metadata": {},
   "source": [
    "# 크롬드라이버 설정 방법 - Windows (2023 Aug)"
   ]
  },
  {
   "cell_type": "markdown",
   "id": "a706960f-a055-4145-acf5-ff99e53e6a1f",
   "metadata": {},
   "source": [
    "## 개요\n",
    "- `selenium 4.10` 버전에서 크롬드라이버 설정하는 방법에 대해 기술하고자 한다. "
   ]
  },
  {
   "cell_type": "markdown",
   "id": "9c1f5ab4-3879-4a99-becf-bdd93e18ce3a",
   "metadata": {},
   "source": [
    "## selenium 버전 확인\n",
    "- 먼저 selenium 버전은 아래와 같다.\n",
    "- 설치 방법\n",
    "```python\n",
    "pip install selenium\n",
    "\n",
    "```"
   ]
  },
  {
   "cell_type": "code",
   "execution_count": 1,
   "id": "640ce619-aa46-4bc2-ae9d-3a9c8cda7441",
   "metadata": {},
   "outputs": [
    {
     "name": "stdout",
     "output_type": "stream",
     "text": [
      "4.11.2\n"
     ]
    }
   ],
   "source": [
    "import selenium\n",
    "print(selenium.__version__)"
   ]
  },
  {
   "cell_type": "markdown",
   "id": "72fb9a18-2105-4e89-834f-526f05b79b34",
   "metadata": {},
   "source": [
    "## 크롬드라이버 수동 설정\n",
    "- 특별한 경로에 chromedriver.exe 파일을 설치한다. "
   ]
  },
  {
   "cell_type": "code",
   "execution_count": 2,
   "id": "2babf552-55f5-47f5-b7b0-ece5f4310ca0",
   "metadata": {},
   "outputs": [
    {
     "name": "stdout",
     "output_type": "stream",
     "text": [
      "driver/\n",
      "    windows_102/\n"
     ]
    }
   ],
   "source": [
    "import os\n",
    "\n",
    "def list_files(startpath):\n",
    "    for root, dirs, files in os.walk(startpath):\n",
    "        level = root.replace(startpath, '').count(os.sep)\n",
    "        indent = ' ' * 4 * (level)\n",
    "        print('{}{}/'.format(indent, os.path.basename(root)))\n",
    "        subindent = ' ' * 4 * (level + 1)\n",
    "        for f in files:\n",
    "            print('{}{}'.format(subindent, f))\n",
    "\n",
    "list_files(\"driver\")"
   ]
  },
  {
   "cell_type": "markdown",
   "id": "0f413b46-0258-402f-8bc4-03ee57ecc545",
   "metadata": {},
   "source": [
    "- 크롬드라이버 경로를 지정 후 아래 코드를 실행한다. "
   ]
  },
  {
   "cell_type": "code",
   "execution_count": 4,
   "id": "a6ed69d6-4ff0-420f-beca-c76e22e038eb",
   "metadata": {},
   "outputs": [],
   "source": [
    "from selenium import webdriver\n",
    "from selenium.webdriver.chrome.service import Service\n",
    "\n",
    "CHROME_DRIVER_PATH = './chromedriver-win64/chromedriver.exe'\n",
    "service = Service(executable_path=CHROME_DRIVER_PATH)\n",
    "options = webdriver.ChromeOptions()\n",
    "driver = webdriver.Chrome(service=service, options=options)\n",
    "\n",
    "driver.get('https://www.naver.com/')"
   ]
  },
  {
   "cell_type": "markdown",
   "id": "f73d42e2-e2ae-49e5-a299-2929e68a3523",
   "metadata": {},
   "source": [
    "- 드라이버를 종료하고 싶다면 아래와 같이 코드를 실행한다. "
   ]
  },
  {
   "cell_type": "code",
   "execution_count": 8,
   "id": "dba5815a-2d55-466e-95d7-2b349996f320",
   "metadata": {},
   "outputs": [],
   "source": [
    "driver.quit()"
   ]
  },
  {
   "cell_type": "markdown",
   "id": "df178b53-b1a6-4f54-a7fc-9940021e3973",
   "metadata": {},
   "source": [
    "- 위 방식은 하나의 치명적인 단점이 존재한다. 위의 코드는 매우 잘 작동하지만 Chrome이 새 버전으로 업그레이드될 때마다 ChromeDriver를 다시 다운로드해야 한다.\n",
    "- 매우 불편하다. "
   ]
  },
  {
   "cell_type": "markdown",
   "id": "196b42c3-56e6-486e-bd34-4134a8325775",
   "metadata": {},
   "source": [
    "## webdriver-manager 라이브러리\n",
    "- 이 부분을 해결하고자 라이브러리가 나왔다.\n",
    "```python\n",
    "pip install webdriver-manager\n",
    "\n",
    "``\n",
    "\n",
    "- 코드는 간단하다. `"
   ]
  },
  {
   "cell_type": "code",
   "execution_count": 7,
   "id": "25b5928e-5263-43e1-acc6-4f51f777941c",
   "metadata": {},
   "outputs": [],
   "source": [
    "from selenium import webdriver\n",
    "from selenium.webdriver.chrome.service import Service as ChromeService\n",
    "from webdriver_manager.chrome import ChromeDriverManager\n",
    "\n",
    "driver = webdriver.Chrome(service=ChromeService(ChromeDriverManager().install()))\n",
    "driver.get('https://www.naver.com/')"
   ]
  },
  {
   "cell_type": "code",
   "execution_count": null,
   "id": "59ee29ef-45ad-451f-b21c-2f1b6fbacbab",
   "metadata": {},
   "outputs": [],
   "source": [
    "driver.quit()"
   ]
  },
  {
   "cell_type": "markdown",
   "id": "368ffbcf-b7a9-408d-a7f7-8b287da07096",
   "metadata": {},
   "source": [
    "## 구글 이미지 다운로드"
   ]
  },
  {
   "cell_type": "code",
   "execution_count": 23,
   "id": "e2174638-507f-4ef6-91a3-7ddc4641132d",
   "metadata": {},
   "outputs": [
    {
     "name": "stdout",
     "output_type": "stream",
     "text": [
      " 찾은 이미지 개수: 48\n"
     ]
    }
   ],
   "source": [
    "from selenium import webdriver\n",
    "from selenium.webdriver.chrome.service import Service as ChromeService\n",
    "from webdriver_manager.chrome import ChromeDriverManager\n",
    "from selenium.webdriver.common.keys import Keys\n",
    "from selenium.webdriver.common.by import By\n",
    "import time\n",
    "\n",
    "driver = webdriver.Chrome(service=ChromeService(ChromeDriverManager().install()))\n",
    "\n",
    "URL='https://www.google.co.kr/imghp'\n",
    "driver.get(url=URL)\n",
    "\n",
    "elem = driver.find_element(By.CSS_SELECTOR, \"body > div.L3eUgb > div.o3j99.ikrT4e.om7nvf > form > div:nth-child(1) > div.A8SBwf > div.RNNXgb > div > div.a4bIc > textarea.gLFyf\")\n",
    "elem.send_keys(\"보라카이\")\n",
    "elem.send_keys(Keys.RETURN)\n",
    "\n",
    "elem = driver.find_element(By.TAG_NAME, 'body')\n",
    "for i in range(60):\n",
    "    elem.send_keys(Keys.PAGE_DOWN)\n",
    "    time.sleep(0.1)\n",
    "\n",
    "try:\n",
    "    driver.find_element(By.CSS_SELECTOR, \"#islmp > div > div > div > div.gBPM8 > div.qvfT1 > div.YstHxe > input\".click())\n",
    "    for i in range(60):\n",
    "        elem.send_keys(Keys.PAGE_DOWN)\n",
    "        time.sleep(0.1)\n",
    "except:\n",
    "    pass\n",
    "\n",
    "links=[] \n",
    "images = driver.find_elements(By.CSS_SELECTOR, \"#islrg > div.islrc > div > a.wXeWr.islib.nfEiy > div.bRMDJf.islir > img\")\n",
    "    # images에 웹페이지 검사에서 img태그를 Copy selector하는 것과 같은 결과를 할당해준다.\n",
    "\n",
    "for image in images:\n",
    "    # 여러가지 이미지들의 img태그안의 내용을 하나씩 불러온다.\n",
    "    if image.get_attribute('src') is not None:\n",
    "        links.append(image.get_attribute('src'))\n",
    "            # img 태그안의 src가 비어있지 않다면 linck list에 그 링크를 추가해준다.\n",
    "        \n",
    "print(' 찾은 이미지 개수:',len(links))"
   ]
  },
  {
   "cell_type": "code",
   "execution_count": 24,
   "id": "d30ce112-0320-487e-bb99-9a3e533b99d6",
   "metadata": {},
   "outputs": [
    {
     "name": "stdout",
     "output_type": "stream",
     "text": [
      "다운로드 완료하였습니다.\n"
     ]
    }
   ],
   "source": [
    "import urllib.request\n",
    "\n",
    "for k, i in enumerate(links):\n",
    "    url = i\n",
    "    urllib.request.urlretrieve(url, \".\\\\사진다운로드\\\\\"+str(k)+\".jpg\")\n",
    "\n",
    "print('다운로드 완료하였습니다.')"
   ]
  },
  {
   "cell_type": "markdown",
   "id": "be90f3c6-ae94-4977-bee9-c2ed7b9152a7",
   "metadata": {},
   "source": [
    "## 검색어 추출"
   ]
  },
  {
   "cell_type": "code",
   "execution_count": null,
   "id": "8d781303-d57a-4139-88e0-f46979dab06b",
   "metadata": {},
   "outputs": [],
   "source": [
    "from selenium import webdriver\n",
    "from selenium.webdriver.chrome.service import Service as ChromeService\n",
    "from webdriver_manager.chrome import ChromeDriverManager\n",
    "from selenium.webdriver.common.keys import Keys\n",
    "from selenium.webdriver.common.by import By\n",
    "import time\n",
    "\n",
    "driver = webdriver.Chrome(service=ChromeService(ChromeDriverManager()\n",
    "\n",
    "URL = ''                                                "
   ]
  }
 ],
 "metadata": {
  "kernelspec": {
   "display_name": "Python 3 (ipykernel)",
   "language": "python",
   "name": "python3"
  },
  "language_info": {
   "codemirror_mode": {
    "name": "ipython",
    "version": 3
   },
   "file_extension": ".py",
   "mimetype": "text/x-python",
   "name": "python",
   "nbconvert_exporter": "python",
   "pygments_lexer": "ipython3",
   "version": "3.9.13"
  }
 },
 "nbformat": 4,
 "nbformat_minor": 5
}
